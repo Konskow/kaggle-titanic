{
 "cells": [
  {
   "cell_type": "code",
   "execution_count": 11,
   "metadata": {},
   "outputs": [
    {
     "name": "stdout",
     "output_type": "stream",
     "text": [
      "Requirement already satisfied: pandas in /Users/piokon/.pyenv/versions/3.8.1/lib/python3.8/site-packages (1.3.5)\n",
      "Requirement already satisfied: python-dateutil>=2.7.3 in /Users/piokon/.pyenv/versions/3.8.1/lib/python3.8/site-packages (from pandas) (2.8.2)\n",
      "Requirement already satisfied: pytz>=2017.3 in /Users/piokon/.pyenv/versions/3.8.1/lib/python3.8/site-packages (from pandas) (2021.3)\n",
      "Requirement already satisfied: numpy>=1.17.3 in /Users/piokon/.pyenv/versions/3.8.1/lib/python3.8/site-packages (from pandas) (1.21.5)\n",
      "Requirement already satisfied: six>=1.5 in /Users/piokon/.pyenv/versions/3.8.1/lib/python3.8/site-packages (from python-dateutil>=2.7.3->pandas) (1.16.0)\n",
      "Requirement already satisfied: scikit-learn in /Users/piokon/.pyenv/versions/3.8.1/lib/python3.8/site-packages (1.0.1)\n",
      "Requirement already satisfied: numpy>=1.14.6 in /Users/piokon/.pyenv/versions/3.8.1/lib/python3.8/site-packages (from scikit-learn) (1.21.5)\n",
      "Requirement already satisfied: scipy>=1.1.0 in /Users/piokon/.pyenv/versions/3.8.1/lib/python3.8/site-packages (from scikit-learn) (1.7.3)\n",
      "Requirement already satisfied: joblib>=0.11 in /Users/piokon/.pyenv/versions/3.8.1/lib/python3.8/site-packages (from scikit-learn) (1.1.0)\n",
      "Requirement already satisfied: threadpoolctl>=2.0.0 in /Users/piokon/.pyenv/versions/3.8.1/lib/python3.8/site-packages (from scikit-learn) (3.0.0)\n"
     ]
    }
   ],
   "source": [
    "!pip install pandas\n",
    "!pip install scikit-learn"
   ]
  },
  {
   "cell_type": "code",
   "execution_count": 22,
   "metadata": {},
   "outputs": [],
   "source": [
    "# imports\n",
    "import pandas as pd\n",
    "import sklearn\n",
    "from sklearn.impute import SimpleImputer\n",
    "from sklearn.preprocessing import MinMaxScaler\n",
    "from sklearn.linear_model import LogisticRegression\n",
    "import numpy as np\n"
   ]
  },
  {
   "cell_type": "code",
   "execution_count": 14,
   "metadata": {},
   "outputs": [],
   "source": [
    "training_set = pd.read_csv('../data/train.csv')\n",
    "test_set = pd.read_csv('../data/test.csv')"
   ]
  },
  {
   "cell_type": "code",
   "execution_count": 15,
   "metadata": {},
   "outputs": [],
   "source": [
    "training_set_men = training_set.loc[training_set['Sex'] == 'male']\n",
    "training_set_women = training_set.loc[training_set['Sex'] == 'female']\n",
    "\n",
    "test_set_men = test_set.loc[training_set['Sex'] == 'male']\n",
    "test_set_women = test_set.loc[training_set['Sex'] == 'female']"
   ]
  },
  {
   "cell_type": "code",
   "execution_count": 23,
   "metadata": {},
   "outputs": [],
   "source": [
    "def fill_missing_data(X):\n",
    "    imputer = SimpleImputer(missing_values = np.nan, strategy = 'mean')\n",
    "    imputer.fit(X[['Age']])\n",
    "    X[['Age']] = imputer.transform(X[['Age']])\n",
    "    X[['Cabin']] = X[['Cabin']].replace(\".*\", True, regex=True)\n",
    "    X[['Cabin']] = X[['Cabin']].replace(np.nan, False)\n",
    "    X = X.fillna(method='ffill')\n",
    "    \n",
    "    return X\n",
    "\n",
    "def encode_categorical_data(X):\n",
    "    X[['Sex']] = X[['Sex']].replace('male', True)\n",
    "    X[['Sex']] = X[['Sex']].replace('female', False)\n",
    "    X = pd.get_dummies(X, columns=['Cabin', 'Embarked', 'Pclass'])\n",
    "    X = X.drop(['Cabin_False', 'Embarked_S', 'Pclass_3'], axis=1)\n",
    "\n",
    "    return X\n",
    "\n",
    "def scale_features(X):\n",
    "    scaler = MinMaxScaler()\n",
    "    X = pd.DataFrame(scaler.fit_transform(X), columns=X.columns)\n",
    "    \n",
    "    return X\n",
    "\n",
    "def prepare_dataset(data_set, features):\n",
    "    X = data_set.reindex(sorted(data_set.columns), axis=1)\n",
    "    \n",
    "    # Taking care of missing data\n",
    "    X = fill_missing_data(X)\n",
    "    X = X.drop(['Name', 'Ticket'], axis=1)\n",
    "    \n",
    "    # Encoding categorical data\n",
    "    X = encode_categorical_data(X)\n",
    "\n",
    "    #Choose features\n",
    "    X = X[features]  \n",
    "    \n",
    "    #feature scaling\n",
    "    X = scale_features(X)\n",
    "    \n",
    "    return X.values\n",
    "\n",
    "def get_classifier(X, y, metrics=True):\n",
    "    classifier = LogisticRegression(random_state=42)\n",
    "    #from sklearn.ensemble import RandomForestClassifier\n",
    "    #classifier = RandomForestClassifier(n_estimators=22, criterion='entropy', random_state=42)\n",
    "\n",
    "    # metrics\n",
    "    if metrics:\n",
    "        from sklearn.model_selection import cross_val_score\n",
    "        scores = cross_val_score(classifier, X, y, cv=5)\n",
    "        print('Mean accuracy = %.3f' % scores.mean())\n",
    "        print('Std= %.3f' % scores.std())\n",
    "    \n",
    "    classifier.fit(X, y)\n",
    "    \n",
    "    return classifier"
   ]
  },
  {
   "cell_type": "code",
   "execution_count": 27,
   "metadata": {},
   "outputs": [
    {
     "name": "stdout",
     "output_type": "stream",
     "text": [
      "Mean accuracy = 0.790\n",
      "Std= 0.018\n"
     ]
    }
   ],
   "source": [
    "data_set = training_set\n",
    "features = ['Age', 'Sex', 'Pclass_1', 'Pclass_2', 'Fare', 'Parch']\n",
    "\n",
    "X_train = prepare_dataset(data_set.iloc[:, 2:], features)\n",
    "y_train = data_set.iloc[:, 1].values\n",
    "\n",
    "\n",
    "classifier = get_classifier(X_train, y_train, metrics=True)\n",
    "\n",
    "X_test = prepare_dataset(test_set.iloc[:, 1:], features)\n",
    "\n",
    "ids = test_set.iloc[:, 0].values\n",
    "ids = ids.reshape(len(ids), 1)\n",
    "y_pred = classifier.predict(X_test) \n",
    "y_pred = y_pred.reshape(len(y_pred), 1)\n",
    "\n",
    "result = np.concatenate((ids, y_pred), axis=1)\n",
    "\n"
   ]
  },
  {
   "cell_type": "code",
   "execution_count": 28,
   "metadata": {},
   "outputs": [],
   "source": [
    "np.savetxt(\"result.csv\", result, delimiter=\",\", fmt='%i', header='PassengerId,Survived')"
   ]
  },
  {
   "cell_type": "code",
   "execution_count": null,
   "metadata": {},
   "outputs": [],
   "source": []
  }
 ],
 "metadata": {
  "kernelspec": {
   "display_name": "Python 3 (ipykernel)",
   "language": "python",
   "name": "python3"
  },
  "language_info": {
   "codemirror_mode": {
    "name": "ipython",
    "version": 3
   },
   "file_extension": ".py",
   "mimetype": "text/x-python",
   "name": "python",
   "nbconvert_exporter": "python",
   "pygments_lexer": "ipython3",
   "version": "3.8.1"
  }
 },
 "nbformat": 4,
 "nbformat_minor": 1
}
